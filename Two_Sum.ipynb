{
  "nbformat": 4,
  "nbformat_minor": 0,
  "metadata": {
    "colab": {
      "provenance": [],
      "authorship_tag": "ABX9TyOa6B0FkPX/uHOGu0WTmJ9Q",
      "include_colab_link": true
    },
    "kernelspec": {
      "name": "python3",
      "display_name": "Python 3"
    },
    "language_info": {
      "name": "python"
    }
  },
  "cells": [
    {
      "cell_type": "markdown",
      "metadata": {
        "id": "view-in-github",
        "colab_type": "text"
      },
      "source": [
        "<a href=\"https://colab.research.google.com/github/carltonduke/leetcode/blob/main/Two_Sum.ipynb\" target=\"_parent\"><img src=\"https://colab.research.google.com/assets/colab-badge.svg\" alt=\"Open In Colab\"/></a>"
      ]
    },
    {
      "cell_type": "markdown",
      "source": [
        "> # [**Two Sum**](https://leetcode.com/problems/two-sum/description/)\n",
        "> ### Array"
      ],
      "metadata": {
        "id": "LpaYh6CIzdTX"
      }
    },
    {
      "cell_type": "code",
      "source": [
        "def twoSum(nums, target):\n",
        "  store = {}\n",
        "\n",
        "  for i, n in enumerate(nums):\n",
        "    if target-n in store:\n",
        "      return store[target-n],i\n",
        "    store[n] = i"
      ],
      "metadata": {
        "id": "WfZl05aRzfHo"
      },
      "execution_count": 1,
      "outputs": []
    },
    {
      "cell_type": "code",
      "source": [
        "twoSum(nums=[2,7,11,15], target=9)"
      ],
      "metadata": {
        "colab": {
          "base_uri": "https://localhost:8080/"
        },
        "id": "osWAWPUzzuPa",
        "outputId": "ad627932-641a-4c14-b4ff-cbde2e0c2535"
      },
      "execution_count": 2,
      "outputs": [
        {
          "output_type": "execute_result",
          "data": {
            "text/plain": [
              "(0, 1)"
            ]
          },
          "metadata": {},
          "execution_count": 2
        }
      ]
    },
    {
      "cell_type": "code",
      "source": [],
      "metadata": {
        "id": "wX7A_Q2qzvzu"
      },
      "execution_count": null,
      "outputs": []
    }
  ]
}
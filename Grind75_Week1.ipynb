{
  "nbformat": 4,
  "nbformat_minor": 0,
  "metadata": {
    "colab": {
      "provenance": [],
      "collapsed_sections": [
        "vFLffjTlQ_oB",
        "X57uvx1AS64b"
      ],
      "authorship_tag": "ABX9TyMGb6MIBaGKLY3XxD7mANyE",
      "include_colab_link": true
    },
    "kernelspec": {
      "name": "python3",
      "display_name": "Python 3"
    },
    "language_info": {
      "name": "python"
    }
  },
  "cells": [
    {
      "cell_type": "markdown",
      "metadata": {
        "id": "view-in-github",
        "colab_type": "text"
      },
      "source": [
        "<a href=\"https://colab.research.google.com/github/carltonduke/leetcode/blob/main/Grind75_Week1.ipynb\" target=\"_parent\"><img src=\"https://colab.research.google.com/assets/colab-badge.svg\" alt=\"Open In Colab\"/></a>"
      ]
    },
    {
      "cell_type": "markdown",
      "source": [
        "# **Grind 75**\n",
        "# Week 1\n",
        "\n",
        "> https://www.techinterviewhandbook.org/grind75/"
      ],
      "metadata": {
        "id": "jcW9QjROQVLw"
      }
    },
    {
      "cell_type": "code",
      "source": [
        "from collections import deque"
      ],
      "metadata": {
        "id": "dWQnBK0xTrbS"
      },
      "execution_count": null,
      "outputs": []
    },
    {
      "cell_type": "markdown",
      "source": [
        "## **Two Sum**\n",
        "> ### Array\n",
        "\n",
        "https://leetcode.com/problems/two-sum/description/\n",
        "\n"
      ],
      "metadata": {
        "id": "vFLffjTlQ_oB"
      }
    },
    {
      "cell_type": "code",
      "source": [
        "def twoSum(nums, target):\n",
        "  store = {}\n",
        "\n",
        "  for i, n in enumerate(nums):\n",
        "    if target-n in store:\n",
        "      return store[target-n],i\n",
        "    store[n] = i"
      ],
      "metadata": {
        "id": "pNgCyQjeQ7ww"
      },
      "execution_count": null,
      "outputs": []
    },
    {
      "cell_type": "code",
      "source": [
        "twoSum(nums=[2,7,11,15], target=9)"
      ],
      "metadata": {
        "colab": {
          "base_uri": "https://localhost:8080/"
        },
        "id": "PzKnlgE8VoG1",
        "outputId": "7e79d543-de00-48a3-d00d-c2d7fa21a7db"
      },
      "execution_count": null,
      "outputs": [
        {
          "output_type": "execute_result",
          "data": {
            "text/plain": [
              "(0, 1)"
            ]
          },
          "metadata": {},
          "execution_count": 23
        }
      ]
    },
    {
      "cell_type": "markdown",
      "source": [
        "## **Valid Parenthesis**\n",
        "\n",
        "> ## Stack\n",
        "\n",
        "https://leetcode.com/problems/valid-parentheses/"
      ],
      "metadata": {
        "id": "X57uvx1AS64b"
      }
    },
    {
      "cell_type": "code",
      "source": [
        "def isValid(s: str) -> bool:\n",
        "  store = {\n",
        "      '}':'{',\n",
        "      ')':'(',\n",
        "      ']':'['\n",
        "  }\n",
        "\n",
        "  open_ = ['{', '[', '(']\n",
        "  close_ = ['}', ']', ')']\n",
        "\n",
        "  q = deque()\n",
        "  for c in s:\n",
        "      if c in open_:\n",
        "          q.append(c)\n",
        "      else:\n",
        "          if c not in close_: return False\n",
        "          if not q: return False\n",
        "          if store[c] != q.pop(): return False\n",
        "\n",
        "  return not q"
      ],
      "metadata": {
        "id": "M4XayZ0uTEc1"
      },
      "execution_count": null,
      "outputs": []
    },
    {
      "cell_type": "code",
      "source": [
        "isValid(\"({[]})\")"
      ],
      "metadata": {
        "colab": {
          "base_uri": "https://localhost:8080/"
        },
        "id": "WzirGmpAUl3w",
        "outputId": "99c2fa30-f712-4bb1-982e-2da0624275c8"
      },
      "execution_count": null,
      "outputs": [
        {
          "output_type": "execute_result",
          "data": {
            "text/plain": [
              "True"
            ]
          },
          "metadata": {},
          "execution_count": 20
        }
      ]
    },
    {
      "cell_type": "markdown",
      "source": [
        "## **Merge Two Sorted Lists**\n",
        "\n",
        "> ### Linked List\n",
        "\n",
        "https://leetcode.com/problems/merge-two-sorted-lists/"
      ],
      "metadata": {
        "id": "B42aHPGjV8Yk"
      }
    },
    {
      "cell_type": "code",
      "source": [
        "class ListNode:\n",
        "  def __init__(self, val=0, next=None):\n",
        "    self.val = val\n",
        "    self.next = next\n",
        "\n",
        "def mergeTwoLists(list1, list2):\n",
        "  dummy = ListNode()\n",
        "  tail = dummy\n",
        "\n",
        "  while list1 and list2:\n",
        "    if list1.val < list2.val:\n",
        "      tail.next = list1\n",
        "      list1 = list1.next\n",
        "    else:\n",
        "      tail.next = list2\n",
        "      list2 = list2.next\n",
        "\n",
        "    if list1:\n",
        "      tail.next = list1\n",
        "    elif list2:\n",
        "      tail.next = list2\n",
        "\n",
        "    return dummy.next"
      ],
      "metadata": {
        "id": "djuwL5lyWHfl"
      },
      "execution_count": 1,
      "outputs": []
    },
    {
      "cell_type": "markdown",
      "source": [
        "## **Best Time to Buy and Sell Stock**\n",
        "\n",
        "> ### Array\n",
        "\n",
        "https://leetcode.com/problems/best-time-to-buy-and-sell-stock/"
      ],
      "metadata": {
        "id": "0owcJ5ZtY9RH"
      }
    },
    {
      "cell_type": "markdown",
      "source": [
        "> You create variable `min_buy`, set to `float('inf')`, to create a number that will always be larger than anything it's compared to. So, any buy price will be smaller, and thus set as the new buy price.\n",
        "\n",
        "Solution goes as follows:\n",
        "- Set variables to track the minimum found buy price and the maximum profit possible throughout the prices list\n",
        "- Then, iterate through prices\n",
        "  - Set `min_buy` to `price` if `price` is smaller than `min_buy`\n",
        "  - Then, set `max_profit` to `price - min_buy` if that value is larger than `max_profit`\n",
        "- Finally, return `max_profit`\n"
      ],
      "metadata": {
        "id": "EZDTzPRc0SWm"
      }
    },
    {
      "cell_type": "code",
      "source": [
        "def maxProfit(prices):\n",
        "  min_buy = float('inf')\n",
        "  max_profit = 0\n",
        "\n",
        "  for price in prices:\n",
        "    min_buy = min(price, min_buy)\n",
        "    max_profit = max(max_profit, price-min_buy)\n",
        "\n",
        "  return max_profit"
      ],
      "metadata": {
        "id": "ZttkfKnyY8Cb"
      },
      "execution_count": 2,
      "outputs": []
    },
    {
      "cell_type": "code",
      "source": [
        "maxProfit([7,1,5,3,6,4])"
      ],
      "metadata": {
        "colab": {
          "base_uri": "https://localhost:8080/"
        },
        "id": "GGOAQ9NqzoVj",
        "outputId": "3339bba1-1ee8-4ffb-9a28-7c6cbd26882b"
      },
      "execution_count": 3,
      "outputs": [
        {
          "output_type": "execute_result",
          "data": {
            "text/plain": [
              "5"
            ]
          },
          "metadata": {},
          "execution_count": 3
        }
      ]
    },
    {
      "cell_type": "code",
      "source": [
        "maxProfit([7,6,4,3,1])"
      ],
      "metadata": {
        "colab": {
          "base_uri": "https://localhost:8080/"
        },
        "id": "ce5d0KbpzqhC",
        "outputId": "42334392-430c-4f10-d0b6-8f55d997c1c2"
      },
      "execution_count": 4,
      "outputs": [
        {
          "output_type": "execute_result",
          "data": {
            "text/plain": [
              "0"
            ]
          },
          "metadata": {},
          "execution_count": 4
        }
      ]
    },
    {
      "cell_type": "markdown",
      "source": [
        "# Valid Palindrome\n",
        "\n",
        "> ### String\n",
        "\n",
        "https://leetcode.com/problems/valid-palindrome/description/"
      ],
      "metadata": {
        "id": "2w0OnGBu0FkD"
      }
    },
    {
      "cell_type": "code",
      "source": [
        "class Solution:\n",
        "  def isPalindrome(s):\n",
        "    i,j = 0, len(s)-1\n",
        "\n",
        "    while i < j:\n",
        "      start, end = s[i], s[j]\n",
        "      if start.isalnum() and end.isalnum():\n",
        "        if start.lower() != end.lower():\n",
        "          return False\n",
        "        else:\n",
        "          i += 1\n",
        "          j -= 1\n",
        "      elif not start.isalnum() and end.isalnum():\n",
        "        i += 1\n",
        "      elif start.isalnum() and not end.isalnum():\n",
        "        j -= 1\n",
        "      else:\n",
        "        i += 1\n",
        "        j -= 1\n",
        "\n",
        "    return True"
      ],
      "metadata": {
        "id": "x968tx_y0Lfy"
      },
      "execution_count": 28,
      "outputs": []
    },
    {
      "cell_type": "code",
      "source": [],
      "metadata": {
        "id": "_g_MnL8L6d3d"
      },
      "execution_count": null,
      "outputs": []
    },
    {
      "cell_type": "code",
      "source": [
        "isPalindrome(\"A man, a plan, a canal: Panama\")"
      ],
      "metadata": {
        "colab": {
          "base_uri": "https://localhost:8080/"
        },
        "id": "3_-YDqA313Rr",
        "outputId": "4a2bb260-3ba8-474c-f31a-dd19dcf4262e"
      },
      "execution_count": 29,
      "outputs": [
        {
          "output_type": "execute_result",
          "data": {
            "text/plain": [
              "True"
            ]
          },
          "metadata": {},
          "execution_count": 29
        }
      ]
    },
    {
      "cell_type": "code",
      "source": [
        "isPalindrome(\"race a car\")"
      ],
      "metadata": {
        "colab": {
          "base_uri": "https://localhost:8080/"
        },
        "id": "_znKJ4Pe5R1k",
        "outputId": "f86af9c2-bdd6-4968-f568-f67850e834f3"
      },
      "execution_count": 33,
      "outputs": [
        {
          "output_type": "execute_result",
          "data": {
            "text/plain": [
              "False"
            ]
          },
          "metadata": {},
          "execution_count": 33
        }
      ]
    },
    {
      "cell_type": "code",
      "source": [
        "isPalindrome(\" # el ##e \")"
      ],
      "metadata": {
        "colab": {
          "base_uri": "https://localhost:8080/"
        },
        "id": "G9N65s905VE9",
        "outputId": "9a86b35b-86ef-4394-f490-3b28ae31506e"
      },
      "execution_count": 31,
      "outputs": [
        {
          "output_type": "execute_result",
          "data": {
            "text/plain": [
              "True"
            ]
          },
          "metadata": {},
          "execution_count": 31
        }
      ]
    },
    {
      "cell_type": "code",
      "source": [
        "isPalindrome(\"0P\")"
      ],
      "metadata": {
        "colab": {
          "base_uri": "https://localhost:8080/"
        },
        "id": "D8Lf1zva58U4",
        "outputId": "273f6475-5358-4df6-d3da-4d145132fa21"
      },
      "execution_count": 32,
      "outputs": [
        {
          "output_type": "execute_result",
          "data": {
            "text/plain": [
              "False"
            ]
          },
          "metadata": {},
          "execution_count": 32
        }
      ]
    },
    {
      "cell_type": "markdown",
      "source": [
        "# Invert Binary Tree\n",
        "\n",
        "> ### Binary Tree\n",
        "\n",
        "- https://leetcode.com/problems/invert-binary-tree"
      ],
      "metadata": {
        "id": "sZBjcZ2c5uaU"
      }
    },
    {
      "cell_type": "code",
      "source": [],
      "metadata": {
        "id": "k8A9N6zE53Cc"
      },
      "execution_count": null,
      "outputs": []
    }
  ]
}
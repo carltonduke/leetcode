{
  "nbformat": 4,
  "nbformat_minor": 0,
  "metadata": {
    "colab": {
      "provenance": [],
      "collapsed_sections": [
        "tBfmAMf40tA3",
        "vFLffjTlQ_oB",
        "X57uvx1AS64b",
        "B42aHPGjV8Yk",
        "0owcJ5ZtY9RH",
        "2w0OnGBu0FkD",
        "sZBjcZ2c5uaU",
        "5omOPq2gMSkV",
        "yOWkunfOMU3c",
        "zPlAucB0MX2I",
        "hJMBHk_xMaKT",
        "K5qduaQgMf53",
        "0xD4QCOBMhqG"
      ],
      "authorship_tag": "ABX9TyPpYzRq5FkGvVz2/CvPFxKR",
      "include_colab_link": true
    },
    "kernelspec": {
      "name": "python3",
      "display_name": "Python 3"
    },
    "language_info": {
      "name": "python"
    }
  },
  "cells": [
    {
      "cell_type": "markdown",
      "metadata": {
        "id": "view-in-github",
        "colab_type": "text"
      },
      "source": [
        "<a href=\"https://colab.research.google.com/github/carltonduke/leetcode/blob/main/Grind75_Week1.ipynb\" target=\"_parent\"><img src=\"https://colab.research.google.com/assets/colab-badge.svg\" alt=\"Open In Colab\"/></a>"
      ]
    },
    {
      "cell_type": "markdown",
      "source": [
        "# **Grind 75**\n",
        "> ## Week 1\n",
        "> https://www.techinterviewhandbook.org/grind75/"
      ],
      "metadata": {
        "id": "jcW9QjROQVLw"
      }
    },
    {
      "cell_type": "markdown",
      "source": [
        "### Setup Code"
      ],
      "metadata": {
        "id": "tBfmAMf40tA3"
      }
    },
    {
      "cell_type": "code",
      "source": [
        "from collections import deque\n",
        "from typing import Optional\n",
        "import math\n",
        "\n",
        "class TreeNode:\n",
        "    def __init__(self, x):\n",
        "        self.val = x\n",
        "        self.left = None\n",
        "        self.right = None\n",
        "\n",
        "def list_to_tree(lst):\n",
        "    if not lst:  # Handle the empty list case\n",
        "        return None\n",
        "\n",
        "    nodes = [TreeNode(x) if x is not None else None for x in lst]\n",
        "\n",
        "    for i in range(len(lst)):\n",
        "        if nodes[i] is not None:  # Skip None nodes\n",
        "            left_index = 2 * i + 1\n",
        "            right_index = 2 * i + 2\n",
        "            if left_index < len(lst):  # Attach left child\n",
        "                nodes[i].left = nodes[left_index]\n",
        "            if right_index < len(lst):  # Attach right child\n",
        "                nodes[i].right = nodes[right_index]\n",
        "\n",
        "    return nodes[0]  # Root of the tree"
      ],
      "metadata": {
        "id": "dWQnBK0xTrbS"
      },
      "execution_count": 1,
      "outputs": []
    },
    {
      "cell_type": "markdown",
      "source": [
        "> # [**Two Sum**](https://leetcode.com/problems/two-sum/description/)\n",
        "> ### Array\n",
        "\n"
      ],
      "metadata": {
        "id": "vFLffjTlQ_oB"
      }
    },
    {
      "cell_type": "code",
      "source": [
        "def twoSum(nums, target):\n",
        "  store = {}\n",
        "\n",
        "  for i, n in enumerate(nums):\n",
        "    if target-n in store:\n",
        "      return store[target-n],i\n",
        "    store[n] = i"
      ],
      "metadata": {
        "id": "pNgCyQjeQ7ww"
      },
      "execution_count": null,
      "outputs": []
    },
    {
      "cell_type": "code",
      "source": [
        "twoSum(nums=[2,7,11,15], target=9)"
      ],
      "metadata": {
        "colab": {
          "base_uri": "https://localhost:8080/"
        },
        "id": "PzKnlgE8VoG1",
        "outputId": "7e79d543-de00-48a3-d00d-c2d7fa21a7db"
      },
      "execution_count": null,
      "outputs": [
        {
          "output_type": "execute_result",
          "data": {
            "text/plain": [
              "(0, 1)"
            ]
          },
          "metadata": {},
          "execution_count": 23
        }
      ]
    },
    {
      "cell_type": "markdown",
      "source": [
        "> # [**Valid Parenthesis**](https://leetcode.com/problems/valid-parentheses/)\n",
        "> ## Stack"
      ],
      "metadata": {
        "id": "X57uvx1AS64b"
      }
    },
    {
      "cell_type": "code",
      "source": [
        "def isValid(s: str) -> bool:\n",
        "  store = {\n",
        "      '}':'{',\n",
        "      ')':'(',\n",
        "      ']':'['\n",
        "  }\n",
        "\n",
        "  open_ = ['{', '[', '(']\n",
        "  close_ = ['}', ']', ')']\n",
        "\n",
        "  q = deque()\n",
        "  for c in s:\n",
        "      if c in open_:\n",
        "          q.append(c)\n",
        "      else:\n",
        "          if c not in close_: return False\n",
        "          if not q: return False\n",
        "          if store[c] != q.pop(): return False\n",
        "\n",
        "  return not q"
      ],
      "metadata": {
        "id": "M4XayZ0uTEc1"
      },
      "execution_count": null,
      "outputs": []
    },
    {
      "cell_type": "code",
      "source": [
        "isValid(\"({[]})\")"
      ],
      "metadata": {
        "colab": {
          "base_uri": "https://localhost:8080/"
        },
        "id": "WzirGmpAUl3w",
        "outputId": "99c2fa30-f712-4bb1-982e-2da0624275c8"
      },
      "execution_count": null,
      "outputs": [
        {
          "output_type": "execute_result",
          "data": {
            "text/plain": [
              "True"
            ]
          },
          "metadata": {},
          "execution_count": 20
        }
      ]
    },
    {
      "cell_type": "markdown",
      "source": [
        "> # [**Merge Two Sorted Lists**](https://leetcode.com/problems/merge-two-sorted-lists/)\n",
        "> ### Linked List"
      ],
      "metadata": {
        "id": "B42aHPGjV8Yk"
      }
    },
    {
      "cell_type": "code",
      "source": [
        "class ListNode:\n",
        "  def __init__(self, val=0, next=None):\n",
        "    self.val = val\n",
        "    self.next = next\n",
        "\n",
        "def mergeTwoLists(list1, list2):\n",
        "  dummy = ListNode()\n",
        "  tail = dummy\n",
        "\n",
        "  while list1 and list2:\n",
        "    if list1.val < list2.val:\n",
        "      tail.next = list1\n",
        "      list1 = list1.next\n",
        "    else:\n",
        "      tail.next = list2\n",
        "      list2 = list2.next\n",
        "\n",
        "    if list1:\n",
        "      tail.next = list1\n",
        "    elif list2:\n",
        "      tail.next = list2\n",
        "\n",
        "    return dummy.next"
      ],
      "metadata": {
        "id": "djuwL5lyWHfl"
      },
      "execution_count": null,
      "outputs": []
    },
    {
      "cell_type": "markdown",
      "source": [
        "> # [**Best Time to Buy and Sell Stock**](https://leetcode.com/problems/best-time-to-buy-and-sell-stock/)\n",
        "> ### Array\n",
        "\n"
      ],
      "metadata": {
        "id": "0owcJ5ZtY9RH"
      }
    },
    {
      "cell_type": "markdown",
      "source": [
        "> You create variable `min_buy`, set to `float('inf')`, to create a number that will always be larger than anything it's compared to. So, any buy price will be smaller, and thus set as the new buy price.\n",
        "\n",
        "Solution goes as follows:\n",
        "- Set variables to track the minimum found buy price and the maximum profit possible throughout the prices list\n",
        "- Then, iterate through prices\n",
        "  - Set `min_buy` to `price` if `price` is smaller than `min_buy`\n",
        "  - Then, set `max_profit` to `price - min_buy` if that value is larger than `max_profit`\n",
        "- Finally, return `max_profit`\n"
      ],
      "metadata": {
        "id": "EZDTzPRc0SWm"
      }
    },
    {
      "cell_type": "code",
      "source": [
        "def maxProfit(prices):\n",
        "  min_buy = float('inf')\n",
        "  max_profit = 0\n",
        "\n",
        "  for price in prices:\n",
        "    min_buy = min(price, min_buy)\n",
        "    max_profit = max(max_profit, price-min_buy)\n",
        "\n",
        "  return max_profit"
      ],
      "metadata": {
        "id": "ZttkfKnyY8Cb"
      },
      "execution_count": null,
      "outputs": []
    },
    {
      "cell_type": "code",
      "source": [
        "maxProfit([7,1,5,3,6,4])"
      ],
      "metadata": {
        "colab": {
          "base_uri": "https://localhost:8080/"
        },
        "id": "GGOAQ9NqzoVj",
        "outputId": "3339bba1-1ee8-4ffb-9a28-7c6cbd26882b"
      },
      "execution_count": null,
      "outputs": [
        {
          "output_type": "execute_result",
          "data": {
            "text/plain": [
              "5"
            ]
          },
          "metadata": {},
          "execution_count": 3
        }
      ]
    },
    {
      "cell_type": "code",
      "source": [
        "maxProfit([7,6,4,3,1])"
      ],
      "metadata": {
        "colab": {
          "base_uri": "https://localhost:8080/"
        },
        "id": "ce5d0KbpzqhC",
        "outputId": "42334392-430c-4f10-d0b6-8f55d997c1c2"
      },
      "execution_count": null,
      "outputs": [
        {
          "output_type": "execute_result",
          "data": {
            "text/plain": [
              "0"
            ]
          },
          "metadata": {},
          "execution_count": 4
        }
      ]
    },
    {
      "cell_type": "markdown",
      "source": [
        "> # [**Valid Palindrome**](https://leetcode.com/problems/valid-palindrome/description/)\n",
        "> ### String"
      ],
      "metadata": {
        "id": "2w0OnGBu0FkD"
      }
    },
    {
      "cell_type": "code",
      "source": [
        "class Solution:\n",
        "  def isPalindrome(s):\n",
        "    i,j = 0, len(s)-1\n",
        "\n",
        "    while i < j:\n",
        "      start, end = s[i], s[j]\n",
        "      if start.isalnum() and end.isalnum():\n",
        "        if start.lower() != end.lower():\n",
        "          return False\n",
        "        else:\n",
        "          i += 1\n",
        "          j -= 1\n",
        "      elif not start.isalnum() and end.isalnum():\n",
        "        i += 1\n",
        "      elif start.isalnum() and not end.isalnum():\n",
        "        j -= 1\n",
        "      else:\n",
        "        i += 1\n",
        "        j -= 1\n",
        "\n",
        "    return True"
      ],
      "metadata": {
        "id": "x968tx_y0Lfy"
      },
      "execution_count": null,
      "outputs": []
    },
    {
      "cell_type": "code",
      "source": [],
      "metadata": {
        "id": "_g_MnL8L6d3d"
      },
      "execution_count": null,
      "outputs": []
    },
    {
      "cell_type": "code",
      "source": [
        "isPalindrome(\"A man, a plan, a canal: Panama\")"
      ],
      "metadata": {
        "colab": {
          "base_uri": "https://localhost:8080/"
        },
        "id": "3_-YDqA313Rr",
        "outputId": "4a2bb260-3ba8-474c-f31a-dd19dcf4262e"
      },
      "execution_count": null,
      "outputs": [
        {
          "output_type": "execute_result",
          "data": {
            "text/plain": [
              "True"
            ]
          },
          "metadata": {},
          "execution_count": 29
        }
      ]
    },
    {
      "cell_type": "code",
      "source": [
        "isPalindrome(\"race a car\")"
      ],
      "metadata": {
        "colab": {
          "base_uri": "https://localhost:8080/"
        },
        "id": "_znKJ4Pe5R1k",
        "outputId": "f86af9c2-bdd6-4968-f568-f67850e834f3"
      },
      "execution_count": null,
      "outputs": [
        {
          "output_type": "execute_result",
          "data": {
            "text/plain": [
              "False"
            ]
          },
          "metadata": {},
          "execution_count": 33
        }
      ]
    },
    {
      "cell_type": "code",
      "source": [
        "isPalindrome(\" # el ##e \")"
      ],
      "metadata": {
        "colab": {
          "base_uri": "https://localhost:8080/"
        },
        "id": "G9N65s905VE9",
        "outputId": "9a86b35b-86ef-4394-f490-3b28ae31506e"
      },
      "execution_count": null,
      "outputs": [
        {
          "output_type": "execute_result",
          "data": {
            "text/plain": [
              "True"
            ]
          },
          "metadata": {},
          "execution_count": 31
        }
      ]
    },
    {
      "cell_type": "code",
      "source": [
        "isPalindrome(\"0P\")"
      ],
      "metadata": {
        "colab": {
          "base_uri": "https://localhost:8080/"
        },
        "id": "D8Lf1zva58U4",
        "outputId": "273f6475-5358-4df6-d3da-4d145132fa21"
      },
      "execution_count": null,
      "outputs": [
        {
          "output_type": "execute_result",
          "data": {
            "text/plain": [
              "False"
            ]
          },
          "metadata": {},
          "execution_count": 32
        }
      ]
    },
    {
      "cell_type": "markdown",
      "source": [
        "> # [**Invert Binary Tree**](https://leetcode.com/problems/invert-binary-tree)\n",
        "> ### Binary Tree"
      ],
      "metadata": {
        "id": "sZBjcZ2c5uaU"
      }
    },
    {
      "cell_type": "code",
      "source": [
        "class TreeNode:\n",
        "  def __init__(self, val=0, left=None, right=None):\n",
        "      self.val = val\n",
        "      self.left = left\n",
        "      self.right = right"
      ],
      "metadata": {
        "id": "k8A9N6zE53Cc"
      },
      "execution_count": null,
      "outputs": []
    },
    {
      "cell_type": "code",
      "source": [
        "class Solution:\n",
        "    def invertTree(self, root: Optional[TreeNode]) -> Optional[TreeNode]:\n",
        "        if not root:\n",
        "            return\n",
        "\n",
        "        temp = root.left\n",
        "        root.left = root.right\n",
        "        root.right = temp\n",
        "\n",
        "        self.invertTree(root.left)\n",
        "        self.invertTree(root.right)\n",
        "\n",
        "        return root"
      ],
      "metadata": {
        "id": "kR3ClaqE-UTe"
      },
      "execution_count": null,
      "outputs": []
    },
    {
      "cell_type": "markdown",
      "source": [
        "> # [**Valid Anagram**](https://leetcode.com/problems/valid-anagram/)\n",
        "> ### String"
      ],
      "metadata": {
        "id": "5omOPq2gMSkV"
      }
    },
    {
      "cell_type": "code",
      "source": [
        "class Solution:\n",
        "    def isAnagram(s: str, t: str) -> bool:\n",
        "        if len(s) != len(t):\n",
        "          return False\n",
        "\n",
        "        s_, t_ = {}, {}\n",
        "\n",
        "        for cs, ct in list(zip(s,t)):\n",
        "          if cs not in s_:\n",
        "            s_[cs] = 1\n",
        "          else:\n",
        "            s_[cs] += 1\n",
        "\n",
        "          if ct not in t_:\n",
        "            t_[ct] = 1\n",
        "          else:\n",
        "            t_[ct] += 1\n",
        "\n",
        "        for char in list(s_.keys()):\n",
        "          if char not in t_:\n",
        "            return False\n",
        "          if s_[char] != t_[char]:\n",
        "            return False\n",
        "\n",
        "        return True"
      ],
      "metadata": {
        "id": "qfx0nyyyxAEL"
      },
      "execution_count": null,
      "outputs": []
    },
    {
      "cell_type": "code",
      "source": [
        "class Solution:\n",
        "  def isAnagram(s: str, t: str) -> bool:\n",
        "    s = sorted(s)\n",
        "    t = sorted(t)\n",
        "    return s == t"
      ],
      "metadata": {
        "id": "f4FON-4SDwy9"
      },
      "execution_count": null,
      "outputs": []
    },
    {
      "cell_type": "code",
      "source": [
        "Solution.isAnagram(\"rat\", \"car\")"
      ],
      "metadata": {
        "colab": {
          "base_uri": "https://localhost:8080/"
        },
        "id": "_02oLQzS02d_",
        "outputId": "d042ed8a-a08a-432a-820e-e86710fb1cae"
      },
      "execution_count": null,
      "outputs": [
        {
          "output_type": "execute_result",
          "data": {
            "text/plain": [
              "False"
            ]
          },
          "metadata": {},
          "execution_count": 19
        }
      ]
    },
    {
      "cell_type": "markdown",
      "source": [
        "# [**Binary Search**](https://leetcode.com/problems/binary-search/)\n",
        "\n",
        "> ### Binary Search"
      ],
      "metadata": {
        "id": "yOWkunfOMU3c"
      }
    },
    {
      "cell_type": "markdown",
      "source": [
        "#### Resource\n",
        "- [Algorithm Pseudocode](https://www.geeksforgeeks.org/binary-search/)"
      ],
      "metadata": {
        "id": "HjliqOYuQE2D"
      }
    },
    {
      "cell_type": "code",
      "source": [
        "class Solution:\n",
        "  def search(nums, target):\n",
        "    low, high = 0, len(nums)-1\n",
        "\n",
        "    while low <= high:\n",
        "      mid = low + (high - low) // 2\n",
        "\n",
        "      if nums[mid] == target:\n",
        "        return mid\n",
        "\n",
        "      if nums[mid] > target:\n",
        "        high = mid-1\n",
        "\n",
        "      if nums[mid] < target:\n",
        "        low = mid+1\n",
        "\n",
        "    return -1\n"
      ],
      "metadata": {
        "id": "OU74OSjlEpx5"
      },
      "execution_count": null,
      "outputs": []
    },
    {
      "cell_type": "code",
      "source": [
        "test_case_1 = [1,2,3,4,5,6,7]\n",
        "target_1 = 5\n",
        "\n",
        "test_case_2 = [-1,0,3,5,9,12]\n",
        "target_2 = 9\n",
        "\n",
        "test_case_3 = [-1,0,3,5,9,12]\n",
        "target_3 = 2\n",
        "\n",
        "Solution.search(\n",
        "    nums = test_case_3,\n",
        "    target = target_3\n",
        ")"
      ],
      "metadata": {
        "colab": {
          "base_uri": "https://localhost:8080/"
        },
        "id": "aXQXf6kVM18x",
        "outputId": "e5974229-ebe1-4cda-f959-c3795204e544"
      },
      "execution_count": null,
      "outputs": [
        {
          "output_type": "execute_result",
          "data": {
            "text/plain": [
              "-1"
            ]
          },
          "metadata": {},
          "execution_count": 9
        }
      ]
    },
    {
      "cell_type": "markdown",
      "source": [
        "# [**Flood Fill**](https://leetcode.com/problems/flood-fill/)\n",
        "\n",
        "> ### Graph"
      ],
      "metadata": {
        "id": "zPlAucB0MX2I"
      }
    },
    {
      "cell_type": "code",
      "source": [
        "class Solution:\n",
        "  def floodFill(image, sr, sc, color):\n",
        "    if not image or not image[0]:\n",
        "      return image\n",
        "\n",
        "    R,C = len(image), len(image[0])\n",
        "    directions = [(-1, 0), (0, 1), (1, 0), (0, -1)]\n",
        "    visited = set()\n",
        "    start_color = image[sr][sc]\n",
        "\n",
        "    def traverse(r, c):\n",
        "      if (\n",
        "          r not in range(R)\n",
        "          or c not in range(C)\n",
        "          or image[r][c] != start_color\n",
        "          or (r,c) in visited\n",
        "      ):\n",
        "        return\n",
        "\n",
        "      image[r][c] = color\n",
        "      visited.add((r,c))\n",
        "\n",
        "      for dr, dc in directions:\n",
        "        traverse(r+dr, c+dc)\n",
        "\n",
        "    traverse(sr, sc)\n",
        "\n",
        "    return image\n"
      ],
      "metadata": {
        "id": "i4iWEnPlQYXr"
      },
      "execution_count": null,
      "outputs": []
    },
    {
      "cell_type": "code",
      "source": [
        "tc2 = dict(image=[[1,1,1],[1,1,0],[1,0,1]], sr=1, sc=1, color=2)\n",
        "tc1 = dict(image=[[0,0,0],[0,0,0]], sr=0, sc=0, color=0)\n",
        "\n",
        "for r in tc1['image']:\n",
        "  print(r)\n",
        "print(\"\")\n",
        "\n",
        "res = Solution.floodFill(\n",
        "    image=tc1['image'],\n",
        "    sr = tc1['sr'],\n",
        "    sc = tc1['sc'],\n",
        "    color = tc1['color']\n",
        ")\n",
        "\n",
        "for r in res:\n",
        "  print(r)"
      ],
      "metadata": {
        "colab": {
          "base_uri": "https://localhost:8080/"
        },
        "id": "Nd2YHVhVlsTB",
        "outputId": "273d887d-855b-45bd-8184-d9dc6ec1720b"
      },
      "execution_count": null,
      "outputs": [
        {
          "output_type": "stream",
          "name": "stdout",
          "text": [
            "[0, 0, 0]\n",
            "[0, 0, 0]\n",
            "\n",
            "[0, 0, 0]\n",
            "[0, 0, 0]\n"
          ]
        }
      ]
    },
    {
      "cell_type": "markdown",
      "source": [
        "> # [**Lowest Common Ancestor of a Binary Search Tree**](https://leetcode.com/problems/lowest-common-ancestor-of-a-binary-search-tree/)\n",
        "\n",
        "> ### Binary Tree"
      ],
      "metadata": {
        "id": "hJMBHk_xMaKT"
      }
    },
    {
      "cell_type": "code",
      "source": [
        "def lowestCommonAncestor(root, p, q):\n",
        "  if not root:\n",
        "    return None\n",
        "\n",
        "  if (p.val > root.val and q.val > root.val):\n",
        "    return lowestCommonAncestor(root.right, p, q)\n",
        "\n",
        "  elif (p.val < root.val and q.val < root.val):\n",
        "    return lowestCommonAncestor(root.left, p, q)\n",
        "\n",
        "  return root"
      ],
      "metadata": {
        "id": "bTWHOeWmwFma"
      },
      "execution_count": null,
      "outputs": []
    },
    {
      "cell_type": "code",
      "source": [
        "tree1 = list_to_tree([6,2,8,0,4,7,9,None,None,3,5])\n",
        "\n",
        "node = lowestCommonAncestor(tree1,\n",
        "                            TreeNode(2),\n",
        "                            TreeNode(8),\n",
        "                            )\n",
        "\n",
        "node.val"
      ],
      "metadata": {
        "colab": {
          "base_uri": "https://localhost:8080/"
        },
        "id": "Ox9_ccjp02wO",
        "outputId": "c178c318-d783-4be3-a5fd-df0ac98aa580"
      },
      "execution_count": null,
      "outputs": [
        {
          "output_type": "execute_result",
          "data": {
            "text/plain": [
              "6"
            ]
          },
          "metadata": {},
          "execution_count": 7
        }
      ]
    },
    {
      "cell_type": "markdown",
      "source": [
        "> # [**Balanced Binary Tree**](https://leetcode.com/problems/balanced-binary-tree/)\n",
        "> ### Binary Tree\n"
      ],
      "metadata": {
        "id": "h_ZxcWOgMcyd"
      }
    },
    {
      "cell_type": "code",
      "source": [
        "def isBalanced(root) -> bool:\n",
        "  def height(node):\n",
        "    if not node:\n",
        "        return 0\n",
        "\n",
        "    left_height = height(node.left)\n",
        "    right_height = height(node.right)\n",
        "\n",
        "    if (\n",
        "      left_height == -1\n",
        "      or right_height == -1\n",
        "      or abs(left_height - right_height) > 1\n",
        "    ):\n",
        "      return -1\n",
        "\n",
        "    return max(left_height, right_height) + 1\n",
        "\n",
        "  return height(root) != -1\n"
      ],
      "metadata": {
        "id": "9p8fC4dZZDMk"
      },
      "execution_count": null,
      "outputs": []
    },
    {
      "cell_type": "code",
      "source": [
        "tree1 = list_to_tree([3,9,20,None,None,15,7])\n",
        "tree2 = list_to_tree([1,2,2,3,3,None,None,4,4])\n",
        "tree3 = list_to_tree([])\n",
        "\n",
        "print(\n",
        "    isBalanced(tree1),\n",
        "    isBalanced(tree2),\n",
        "    isBalanced(tree3)\n",
        ")"
      ],
      "metadata": {
        "colab": {
          "base_uri": "https://localhost:8080/"
        },
        "id": "x7kSy6aenQEY",
        "outputId": "a782891a-61f7-4673-ca06-e949eaa3a0bb"
      },
      "execution_count": null,
      "outputs": [
        {
          "output_type": "stream",
          "name": "stdout",
          "text": [
            "True False True\n"
          ]
        }
      ]
    },
    {
      "cell_type": "markdown",
      "source": [
        "> # [**Linked List Cycle**](https://leetcode.com/problems/linked-list-cycle)\n",
        "> ### Linked List\n"
      ],
      "metadata": {
        "id": "K5qduaQgMf53"
      }
    },
    {
      "cell_type": "code",
      "source": [
        "def hasCycle(head) -> bool:\n",
        "  fast, slow = head, head\n",
        "  while fast and fast.next:\n",
        "    fast = fast.next.next\n",
        "    slow = slow.next\n",
        "    if fast==slow: return True\n",
        "  return False"
      ],
      "metadata": {
        "id": "TUwBmalHmPdJ"
      },
      "execution_count": null,
      "outputs": []
    },
    {
      "cell_type": "markdown",
      "source": [
        "> # [**Implement Queue using Stacks**](https://leetcode.com/problems/implement-queue-using-stacks)\n",
        "> ### Stack"
      ],
      "metadata": {
        "id": "0xD4QCOBMhqG"
      }
    },
    {
      "cell_type": "code",
      "source": [
        "class MyQueue:\n",
        "\n",
        "    def __init__(self):\n",
        "      self.stack = deque()\n",
        "\n",
        "    def push(self, x: int) -> None:\n",
        "      self.stack.append(x)\n",
        "\n",
        "    def pop(self) -> int:\n",
        "      if not self.empty():\n",
        "        return self.stack.popleft()\n",
        "\n",
        "    def peek(self) -> int:\n",
        "      if not self.empty():\n",
        "        return self.stack[0]\n",
        "\n",
        "    def empty(self) -> bool:\n",
        "      return not self.stack"
      ],
      "metadata": {
        "id": "bylBB_b-kJBY"
      },
      "execution_count": 2,
      "outputs": []
    },
    {
      "cell_type": "code",
      "source": [
        "x = 1\n",
        "\n",
        "obj = MyQueue()\n",
        "obj.push(x)\n",
        "param_2 = obj.pop()\n",
        "param_3 = obj.peek()\n",
        "param_4 = obj.empty()"
      ],
      "metadata": {
        "id": "1mpvFFRqjO5D"
      },
      "execution_count": 11,
      "outputs": []
    },
    {
      "cell_type": "code",
      "source": [
        "o = MyQueue()\n",
        "o.push(1)\n",
        "o.push(2)"
      ],
      "metadata": {
        "id": "Fest-YbZo03q"
      },
      "execution_count": 14,
      "outputs": []
    },
    {
      "cell_type": "code",
      "source": [],
      "metadata": {
        "id": "-7LFGtKtpGcY"
      },
      "execution_count": null,
      "outputs": []
    }
  ]
}
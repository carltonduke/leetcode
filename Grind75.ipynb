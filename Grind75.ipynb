{
  "nbformat": 4,
  "nbformat_minor": 0,
  "metadata": {
    "colab": {
      "provenance": [],
      "collapsed_sections": [
        "tBfmAMf40tA3",
        "vFLffjTlQ_oB",
        "X57uvx1AS64b",
        "B42aHPGjV8Yk",
        "0owcJ5ZtY9RH",
        "2w0OnGBu0FkD",
        "sZBjcZ2c5uaU",
        "5omOPq2gMSkV",
        "yOWkunfOMU3c",
        "zPlAucB0MX2I",
        "hJMBHk_xMaKT",
        "h_ZxcWOgMcyd",
        "K5qduaQgMf53",
        "0xD4QCOBMhqG",
        "DqToMZTq1Xq-",
        "1_JYxF9DMA0U",
        "PojmVgXqb8hj",
        "ZdPNwqV5cJoc",
        "1yT4wF54Gclc",
        "WBzpxkb_xMOK",
        "E-cWKypgfPD6",
        "KBdpcEZ3nepG",
        "L3vn9SztYK89",
        "0IbWMuU6dfmI",
        "ZU1wUnhgdxiN",
        "G2fQ0H_2dzRF",
        "OP7J_I5mqSxX"
      ],
      "authorship_tag": "ABX9TyM99yZSN6AJQTw0JynaKvcu",
      "include_colab_link": true
    },
    "kernelspec": {
      "name": "python3",
      "display_name": "Python 3"
    },
    "language_info": {
      "name": "python"
    }
  },
  "cells": [
    {
      "cell_type": "markdown",
      "metadata": {
        "id": "view-in-github",
        "colab_type": "text"
      },
      "source": [
        "<a href=\"https://colab.research.google.com/github/carltonduke/leetcode/blob/main/Grind75.ipynb\" target=\"_parent\"><img src=\"https://colab.research.google.com/assets/colab-badge.svg\" alt=\"Open In Colab\"/></a>"
      ]
    },
    {
      "cell_type": "markdown",
      "source": [
        "# **Week 1**\n",
        "\n",
        "> https://www.techinterviewhandbook.org/grind75/"
      ],
      "metadata": {
        "id": "jcW9QjROQVLw"
      }
    },
    {
      "cell_type": "markdown",
      "source": [
        "### Setup Code"
      ],
      "metadata": {
        "id": "tBfmAMf40tA3"
      }
    },
    {
      "cell_type": "code",
      "source": [
        "from collections import deque\n",
        "from typing import *\n",
        "import math\n",
        "\n",
        "class ListNode:\n",
        "  def __init__(self, val=0, next=None):\n",
        "    self.val = val\n",
        "    self.next = next\n",
        "\n",
        "class TreeNode:\n",
        "    def __init__(self, x):\n",
        "        self.val = x\n",
        "        self.left = None\n",
        "        self.right = None\n",
        "\n",
        "def list_to_tree(lst):\n",
        "    if not lst:  # Handle the empty list case\n",
        "        return None\n",
        "\n",
        "    nodes = [TreeNode(x) if x is not None else None for x in lst]\n",
        "\n",
        "    for i in range(len(lst)):\n",
        "        if nodes[i] is not None:  # Skip None nodes\n",
        "            left_index = 2 * i + 1\n",
        "            right_index = 2 * i + 2\n",
        "            if left_index < len(lst):  # Attach left child\n",
        "                nodes[i].left = nodes[left_index]\n",
        "            if right_index < len(lst):  # Attach right child\n",
        "                nodes[i].right = nodes[right_index]\n",
        "\n",
        "    return nodes[0]  # Root of the tree"
      ],
      "metadata": {
        "id": "dWQnBK0xTrbS"
      },
      "execution_count": null,
      "outputs": []
    },
    {
      "cell_type": "markdown",
      "source": [
        "## [**Two Sum**](https://leetcode.com/problems/two-sum/description/)\n",
        "> ### Array\n",
        "\n"
      ],
      "metadata": {
        "id": "vFLffjTlQ_oB"
      }
    },
    {
      "cell_type": "code",
      "source": [
        "|def twoSum(nums, target):\n",
        "  store = {}\n",
        "\n",
        "  for i, n in enumerate(nums):\n",
        "    if target-n in store:\n",
        "      return store[target-n],i\n",
        "    store[n] = i"
      ],
      "metadata": {
        "id": "pNgCyQjeQ7ww"
      },
      "execution_count": null,
      "outputs": []
    },
    {
      "cell_type": "code",
      "source": [
        "twoSum(nums=[2,7,11,15], target=9)"
      ],
      "metadata": {
        "colab": {
          "base_uri": "https://localhost:8080/"
        },
        "id": "PzKnlgE8VoG1",
        "outputId": "7e79d543-de00-48a3-d00d-c2d7fa21a7db"
      },
      "execution_count": null,
      "outputs": [
        {
          "output_type": "execute_result",
          "data": {
            "text/plain": [
              "(0, 1)"
            ]
          },
          "metadata": {},
          "execution_count": 23
        }
      ]
    },
    {
      "cell_type": "markdown",
      "source": [
        "## [**Valid Parenthesis**](https://leetcode.com/problems/valid-parentheses/)\n",
        "> ## Stack"
      ],
      "metadata": {
        "id": "X57uvx1AS64b"
      }
    },
    {
      "cell_type": "code",
      "source": [
        "def isValid(s: str) -> bool:\n",
        "  store = {\n",
        "      '}':'{',\n",
        "      ')':'(',\n",
        "      ']':'['\n",
        "  }\n",
        "\n",
        "  open_ = ['{', '[', '(']\n",
        "  close_ = ['}', ']', ')']\n",
        "\n",
        "  q = deque()\n",
        "  for c in s:\n",
        "      if c in open_:\n",
        "          q.append(c)\n",
        "      else:\n",
        "          if c not in close_: return False\n",
        "          if not q: return False\n",
        "          if store[c] != q.pop(): return False\n",
        "\n",
        "  return not q"
      ],
      "metadata": {
        "id": "M4XayZ0uTEc1"
      },
      "execution_count": null,
      "outputs": []
    },
    {
      "cell_type": "code",
      "source": [
        "isValid(\"({[]})\")"
      ],
      "metadata": {
        "colab": {
          "base_uri": "https://localhost:8080/"
        },
        "id": "WzirGmpAUl3w",
        "outputId": "99c2fa30-f712-4bb1-982e-2da0624275c8"
      },
      "execution_count": null,
      "outputs": [
        {
          "output_type": "execute_result",
          "data": {
            "text/plain": [
              "True"
            ]
          },
          "metadata": {},
          "execution_count": 20
        }
      ]
    },
    {
      "cell_type": "markdown",
      "source": [
        "## [**Merge Two Sorted Lists**](https://leetcode.com/problems/merge-two-sorted-lists/)\n",
        "> ### Linked List"
      ],
      "metadata": {
        "id": "B42aHPGjV8Yk"
      }
    },
    {
      "cell_type": "code",
      "source": [
        "class ListNode:\n",
        "  def __init__(self, val=0, next=None):\n",
        "    self.val = val\n",
        "    self.next = next\n",
        "\n",
        "def mergeTwoLists(list1, list2):\n",
        "  dummy = ListNode()\n",
        "  tail = dummy\n",
        "\n",
        "  while list1 and list2:\n",
        "    cur = dummy = ListNode()\n",
        "\n",
        "    while list1 and list2:\n",
        "        if list1.val < list2.val:\n",
        "            cur.next = list1\n",
        "            list1, cur = list1.next, list1\n",
        "        else:\n",
        "            cur.next = list2\n",
        "            list2, cur = list2.next, list2\n",
        "\n",
        "    if list1 or list2:\n",
        "        cur.next = list1 if list1 else list2\n",
        "\n",
        "    return dummy.next"
      ],
      "metadata": {
        "id": "djuwL5lyWHfl"
      },
      "execution_count": null,
      "outputs": []
    },
    {
      "cell_type": "markdown",
      "source": [
        "## [**Best Time to Buy and Sell Stock**](https://leetcode.com/problems/best-time-to-buy-and-sell-stock/)\n",
        "> ### Array\n",
        "\n"
      ],
      "metadata": {
        "id": "0owcJ5ZtY9RH"
      }
    },
    {
      "cell_type": "markdown",
      "source": [
        "You create variable `min_buy`, set to `float('inf')`, to create a number that will always be larger than anything it's compared to. So, any buy price will be smaller, and thus set as the new buy price.\n",
        "\n",
        "Solution goes as follows:\n",
        "- Set variables to track the minimum found buy price and the maximum profit possible throughout the prices list\n",
        "- Then, iterate through prices\n",
        "  - Set `min_buy` to `price` if `price` is smaller than `min_buy`\n",
        "  - Then, set `max_profit` to `price - min_buy` if that value is larger than `max_profit`\n",
        "- Finally, return `max_profit`\n"
      ],
      "metadata": {
        "id": "EZDTzPRc0SWm"
      }
    },
    {
      "cell_type": "code",
      "source": [
        "def maxProfit(prices):\n",
        "  min_buy = float('inf')\n",
        "  max_profit = 0\n",
        "\n",
        "  for price in prices:\n",
        "    min_buy = min(price, min_buy)\n",
        "    max_profit = max(max_profit, price-min_buy)\n",
        "\n",
        "  return max_profit"
      ],
      "metadata": {
        "id": "ZttkfKnyY8Cb"
      },
      "execution_count": null,
      "outputs": []
    },
    {
      "cell_type": "code",
      "source": [
        "maxProfit([7,1,5,3,6,4])"
      ],
      "metadata": {
        "colab": {
          "base_uri": "https://localhost:8080/"
        },
        "id": "GGOAQ9NqzoVj",
        "outputId": "3339bba1-1ee8-4ffb-9a28-7c6cbd26882b"
      },
      "execution_count": null,
      "outputs": [
        {
          "output_type": "execute_result",
          "data": {
            "text/plain": [
              "5"
            ]
          },
          "metadata": {},
          "execution_count": 3
        }
      ]
    },
    {
      "cell_type": "code",
      "source": [
        "maxProfit([7,6,4,3,1])"
      ],
      "metadata": {
        "colab": {
          "base_uri": "https://localhost:8080/"
        },
        "id": "ce5d0KbpzqhC",
        "outputId": "42334392-430c-4f10-d0b6-8f55d997c1c2"
      },
      "execution_count": null,
      "outputs": [
        {
          "output_type": "execute_result",
          "data": {
            "text/plain": [
              "0"
            ]
          },
          "metadata": {},
          "execution_count": 4
        }
      ]
    },
    {
      "cell_type": "markdown",
      "source": [
        "## [**Valid Palindrome**](https://leetcode.com/problems/valid-palindrome/description/)\n",
        "> ### String"
      ],
      "metadata": {
        "id": "2w0OnGBu0FkD"
      }
    },
    {
      "cell_type": "code",
      "source": [
        "class Solution:\n",
        "  def isPalindrome(s):\n",
        "    i,j = 0, len(s)-1\n",
        "\n",
        "    while i < j:\n",
        "      start, end = s[i], s[j]\n",
        "      if start.isalnum() and end.isalnum():\n",
        "        if start.lower() != end.lower():\n",
        "          return False\n",
        "        else:\n",
        "          i += 1\n",
        "          j -= 1\n",
        "      elif not start.isalnum() and end.isalnum():\n",
        "        i += 1\n",
        "      elif start.isalnum() and not end.isalnum():\n",
        "        j -= 1\n",
        "      else:\n",
        "        i += 1\n",
        "        j -= 1\n",
        "\n",
        "    return True"
      ],
      "metadata": {
        "id": "x968tx_y0Lfy"
      },
      "execution_count": null,
      "outputs": []
    },
    {
      "cell_type": "code",
      "source": [],
      "metadata": {
        "id": "_g_MnL8L6d3d"
      },
      "execution_count": null,
      "outputs": []
    },
    {
      "cell_type": "code",
      "source": [
        "isPalindrome(\"A man, a plan, a canal: Panama\")"
      ],
      "metadata": {
        "colab": {
          "base_uri": "https://localhost:8080/"
        },
        "id": "3_-YDqA313Rr",
        "outputId": "4a2bb260-3ba8-474c-f31a-dd19dcf4262e"
      },
      "execution_count": null,
      "outputs": [
        {
          "output_type": "execute_result",
          "data": {
            "text/plain": [
              "True"
            ]
          },
          "metadata": {},
          "execution_count": 29
        }
      ]
    },
    {
      "cell_type": "code",
      "source": [
        "isPalindrome(\"race a car\")"
      ],
      "metadata": {
        "colab": {
          "base_uri": "https://localhost:8080/"
        },
        "id": "_znKJ4Pe5R1k",
        "outputId": "f86af9c2-bdd6-4968-f568-f67850e834f3"
      },
      "execution_count": null,
      "outputs": [
        {
          "output_type": "execute_result",
          "data": {
            "text/plain": [
              "False"
            ]
          },
          "metadata": {},
          "execution_count": 33
        }
      ]
    },
    {
      "cell_type": "code",
      "source": [
        "isPalindrome(\" # el ##e \")"
      ],
      "metadata": {
        "colab": {
          "base_uri": "https://localhost:8080/"
        },
        "id": "G9N65s905VE9",
        "outputId": "9a86b35b-86ef-4394-f490-3b28ae31506e"
      },
      "execution_count": null,
      "outputs": [
        {
          "output_type": "execute_result",
          "data": {
            "text/plain": [
              "True"
            ]
          },
          "metadata": {},
          "execution_count": 31
        }
      ]
    },
    {
      "cell_type": "code",
      "source": [
        "isPalindrome(\"0P\")"
      ],
      "metadata": {
        "colab": {
          "base_uri": "https://localhost:8080/"
        },
        "id": "D8Lf1zva58U4",
        "outputId": "273f6475-5358-4df6-d3da-4d145132fa21"
      },
      "execution_count": null,
      "outputs": [
        {
          "output_type": "execute_result",
          "data": {
            "text/plain": [
              "False"
            ]
          },
          "metadata": {},
          "execution_count": 32
        }
      ]
    },
    {
      "cell_type": "markdown",
      "source": [
        "## [**Invert Binary Tree**](https://leetcode.com/problems/invert-binary-tree)\n",
        "> ### Binary Tree"
      ],
      "metadata": {
        "id": "sZBjcZ2c5uaU"
      }
    },
    {
      "cell_type": "code",
      "source": [
        "class TreeNode:\n",
        "  def __init__(self, val=0, left=None, right=None):\n",
        "      self.val = val\n",
        "      self.left = left\n",
        "      self.right = right"
      ],
      "metadata": {
        "id": "k8A9N6zE53Cc"
      },
      "execution_count": null,
      "outputs": []
    },
    {
      "cell_type": "code",
      "source": [
        "class Solution:\n",
        "    def invertTree(self, root: Optional[TreeNode]) -> Optional[TreeNode]:\n",
        "        if not root:\n",
        "            return\n",
        "\n",
        "        temp = root.left\n",
        "        root.left = root.right\n",
        "        root.right = temp\n",
        "\n",
        "        self.invertTree(root.left)\n",
        "        self.invertTree(root.right)\n",
        "\n",
        "        return root"
      ],
      "metadata": {
        "id": "kR3ClaqE-UTe"
      },
      "execution_count": null,
      "outputs": []
    },
    {
      "cell_type": "markdown",
      "source": [
        "## [**Valid Anagram**](https://leetcode.com/problems/valid-anagram/)\n",
        "> ### String"
      ],
      "metadata": {
        "id": "5omOPq2gMSkV"
      }
    },
    {
      "cell_type": "code",
      "source": [
        "class Solution:\n",
        "    def isAnagram(s: str, t: str) -> bool:\n",
        "        if len(s) != len(t):\n",
        "          return False\n",
        "\n",
        "        s_, t_ = {}, {}\n",
        "\n",
        "        for cs, ct in list(zip(s,t)):\n",
        "          if cs not in s_:\n",
        "            s_[cs] = 1\n",
        "          else:\n",
        "            s_[cs] += 1\n",
        "\n",
        "          if ct not in t_:\n",
        "            t_[ct] = 1\n",
        "          else:\n",
        "            t_[ct] += 1\n",
        "\n",
        "        for char in list(s_.keys()):\n",
        "          if char not in t_:\n",
        "            return False\n",
        "          if s_[char] != t_[char]:\n",
        "            return False\n",
        "\n",
        "        return True"
      ],
      "metadata": {
        "id": "qfx0nyyyxAEL"
      },
      "execution_count": null,
      "outputs": []
    },
    {
      "cell_type": "code",
      "source": [
        "class Solution:\n",
        "  def isAnagram(s: str, t: str) -> bool:\n",
        "    s = sorted(s)\n",
        "    t = sorted(t)\n",
        "    return s == t"
      ],
      "metadata": {
        "id": "f4FON-4SDwy9"
      },
      "execution_count": null,
      "outputs": []
    },
    {
      "cell_type": "code",
      "source": [
        "Solution.isAnagram(\"rat\", \"car\")"
      ],
      "metadata": {
        "colab": {
          "base_uri": "https://localhost:8080/"
        },
        "id": "_02oLQzS02d_",
        "outputId": "d042ed8a-a08a-432a-820e-e86710fb1cae"
      },
      "execution_count": null,
      "outputs": [
        {
          "output_type": "execute_result",
          "data": {
            "text/plain": [
              "False"
            ]
          },
          "metadata": {},
          "execution_count": 19
        }
      ]
    },
    {
      "cell_type": "markdown",
      "source": [
        "## [**Binary Search**](https://leetcode.com/problems/binary-search/)\n",
        "\n",
        "> ### Binary Search"
      ],
      "metadata": {
        "id": "yOWkunfOMU3c"
      }
    },
    {
      "cell_type": "markdown",
      "source": [
        "#### Resource\n",
        "- [Algorithm Pseudocode](https://www.geeksforgeeks.org/binary-search/)"
      ],
      "metadata": {
        "id": "HjliqOYuQE2D"
      }
    },
    {
      "cell_type": "code",
      "source": [
        "class Solution:\n",
        "  def search(nums, target):\n",
        "    low, high = 0, len(nums)-1\n",
        "\n",
        "    while low <= high:\n",
        "      mid = low + (high - low) // 2\n",
        "\n",
        "      if nums[mid] == target:\n",
        "        return mid\n",
        "\n",
        "      if nums[mid] > target:\n",
        "        high = mid-1\n",
        "\n",
        "      if nums[mid] < target:\n",
        "        low = mid+1\n",
        "\n",
        "    return -1\n"
      ],
      "metadata": {
        "id": "OU74OSjlEpx5"
      },
      "execution_count": null,
      "outputs": []
    },
    {
      "cell_type": "code",
      "source": [
        "test_case_1 = [1,2,3,4,5,6,7]\n",
        "target_1 = 5\n",
        "\n",
        "test_case_2 = [-1,0,3,5,9,12]\n",
        "target_2 = 9\n",
        "\n",
        "test_case_3 = [-1,0,3,5,9,12]\n",
        "target_3 = 2\n",
        "\n",
        "Solution.search(\n",
        "    nums = test_case_3,\n",
        "    target = target_3\n",
        ")"
      ],
      "metadata": {
        "colab": {
          "base_uri": "https://localhost:8080/"
        },
        "id": "aXQXf6kVM18x",
        "outputId": "e5974229-ebe1-4cda-f959-c3795204e544"
      },
      "execution_count": null,
      "outputs": [
        {
          "output_type": "execute_result",
          "data": {
            "text/plain": [
              "-1"
            ]
          },
          "metadata": {},
          "execution_count": 9
        }
      ]
    },
    {
      "cell_type": "markdown",
      "source": [
        "## [**Flood Fill**](https://leetcode.com/problems/flood-fill/)\n",
        "\n",
        "> ### Graph"
      ],
      "metadata": {
        "id": "zPlAucB0MX2I"
      }
    },
    {
      "cell_type": "code",
      "source": [
        "class Solution:\n",
        "  def floodFill(image, sr, sc, color):\n",
        "    if not image or not image[0]:\n",
        "      return image\n",
        "\n",
        "    R,C = len(image), len(image[0])\n",
        "    directions = [(-1, 0), (0, 1), (1, 0), (0, -1)]\n",
        "    visited = set()\n",
        "    start_color = image[sr][sc]\n",
        "\n",
        "    def traverse(r, c):\n",
        "      if (\n",
        "          r not in range(R)\n",
        "          or c not in range(C)\n",
        "          or image[r][c] != start_color\n",
        "          or (r,c) in visited\n",
        "      ):\n",
        "        return\n",
        "\n",
        "      image[r][c] = color\n",
        "      visited.add((r,c))\n",
        "\n",
        "      for dr, dc in directions:\n",
        "        traverse(r+dr, c+dc)\n",
        "\n",
        "    traverse(sr, sc)\n",
        "\n",
        "    return image\n"
      ],
      "metadata": {
        "id": "i4iWEnPlQYXr"
      },
      "execution_count": null,
      "outputs": []
    },
    {
      "cell_type": "code",
      "source": [
        "# without a visit set, you run into edge case of starting pixel already being color\n",
        "def floodFill(image: List[List[int]], sr: int, sc: int, color: int) -> List[List[int]]:\n",
        "  if not image or not image[0]:\n",
        "      return image\n",
        "\n",
        "  R, C = len(image), len(image[0])\n",
        "  original_color = image[sr][sc]\n",
        "  if original_color == color:\n",
        "      return image\n",
        "\n",
        "  def dfs(r,c):\n",
        "      if(\n",
        "          r not in range(R)\n",
        "          or c not in range(C)\n",
        "          or image[r][c] != original_color\n",
        "      ):\n",
        "          return\n",
        "\n",
        "      image[r][c] = color\n",
        "\n",
        "      for dr, dc in [(-1,0),(0,1),(1,0),(0,-1)]:\n",
        "          dfs(r+dr,c+dc)\n",
        "\n",
        "  dfs(sr,sc)\n",
        "\n",
        "  return image"
      ],
      "metadata": {
        "id": "GNZxsd8lB20f"
      },
      "execution_count": null,
      "outputs": []
    },
    {
      "cell_type": "code",
      "source": [
        "tc2 = dict(image=[[1,1,1],[1,1,0],[1,0,1]], sr=1, sc=1, color=2)\n",
        "tc1 = dict(image=[[0,0,0],[0,0,0]], sr=0, sc=0, color=0)\n",
        "\n",
        "for r in tc1['image']:\n",
        "  print(r)\n",
        "print(\"\")\n",
        "\n",
        "res = Solution.floodFill(\n",
        "    image=tc1['image'],\n",
        "    sr = tc1['sr'],\n",
        "    sc = tc1['sc'],\n",
        "    color = tc1['color']\n",
        ")\n",
        "\n",
        "for r in res:\n",
        "  print(r)"
      ],
      "metadata": {
        "colab": {
          "base_uri": "https://localhost:8080/"
        },
        "id": "Nd2YHVhVlsTB",
        "outputId": "273d887d-855b-45bd-8184-d9dc6ec1720b"
      },
      "execution_count": null,
      "outputs": [
        {
          "output_type": "stream",
          "name": "stdout",
          "text": [
            "[0, 0, 0]\n",
            "[0, 0, 0]\n",
            "\n",
            "[0, 0, 0]\n",
            "[0, 0, 0]\n"
          ]
        }
      ]
    },
    {
      "cell_type": "markdown",
      "source": [
        "## [**Lowest Common Ancestor of a Binary Search Tree**](https://leetcode.com/problems/lowest-common-ancestor-of-a-binary-search-tree/)\n",
        "\n",
        "> ### Binary Tree"
      ],
      "metadata": {
        "id": "hJMBHk_xMaKT"
      }
    },
    {
      "cell_type": "code",
      "source": [
        "def lowestCommonAncestor(root, p, q):\n",
        "  if not root:\n",
        "    return None\n",
        "\n",
        "  if (p.val > root.val and q.val > root.val):\n",
        "    return lowestCommonAncestor(root.right, p, q)\n",
        "\n",
        "  elif (p.val < root.val and q.val < root.val):\n",
        "    return lowestCommonAncestor(root.left, p, q)\n",
        "\n",
        "  return root"
      ],
      "metadata": {
        "id": "bTWHOeWmwFma"
      },
      "execution_count": null,
      "outputs": []
    },
    {
      "cell_type": "code",
      "source": [
        "tree1 = list_to_tree([6,2,8,0,4,7,9,None,None,3,5])\n",
        "\n",
        "node = lowestCommonAncestor(tree1,\n",
        "                            TreeNode(2),\n",
        "                            TreeNode(8),\n",
        "                            )\n",
        "\n",
        "node.val"
      ],
      "metadata": {
        "colab": {
          "base_uri": "https://localhost:8080/"
        },
        "id": "Ox9_ccjp02wO",
        "outputId": "c178c318-d783-4be3-a5fd-df0ac98aa580"
      },
      "execution_count": null,
      "outputs": [
        {
          "output_type": "execute_result",
          "data": {
            "text/plain": [
              "6"
            ]
          },
          "metadata": {},
          "execution_count": 7
        }
      ]
    },
    {
      "cell_type": "markdown",
      "source": [
        "## [**Balanced Binary Tree**](https://leetcode.com/problems/balanced-binary-tree/)\n",
        "> ### Binary Tree\n"
      ],
      "metadata": {
        "id": "h_ZxcWOgMcyd"
      }
    },
    {
      "cell_type": "code",
      "source": [
        "def isBalanced(root) -> bool:\n",
        "  def height(node):\n",
        "    if not node:\n",
        "        return 0\n",
        "\n",
        "    left_height = height(node.left)\n",
        "    right_height = height(node.right)\n",
        "\n",
        "    if (\n",
        "      left_height == -1\n",
        "      or right_height == -1\n",
        "      or abs(left_height - right_height) > 1\n",
        "    ):\n",
        "      return -1\n",
        "\n",
        "    return max(left_height, right_height) + 1\n",
        "\n",
        "  return height(root) != -1\n"
      ],
      "metadata": {
        "id": "9p8fC4dZZDMk"
      },
      "execution_count": null,
      "outputs": []
    },
    {
      "cell_type": "code",
      "source": [
        "tree1 = list_to_tree([3,9,20,None,None,15,7])\n",
        "tree2 = list_to_tree([1,2,2,3,3,None,None,4,4])\n",
        "tree3 = list_to_tree([])\n",
        "\n",
        "print(\n",
        "    isBalanced(tree1),\n",
        "    isBalanced(tree2),\n",
        "    isBalanced(tree3)\n",
        ")"
      ],
      "metadata": {
        "colab": {
          "base_uri": "https://localhost:8080/"
        },
        "id": "x7kSy6aenQEY",
        "outputId": "a782891a-61f7-4673-ca06-e949eaa3a0bb"
      },
      "execution_count": null,
      "outputs": [
        {
          "output_type": "stream",
          "name": "stdout",
          "text": [
            "True False True\n"
          ]
        }
      ]
    },
    {
      "cell_type": "markdown",
      "source": [
        "## [**Linked List Cycle**](https://leetcode.com/problems/linked-list-cycle)\n",
        "> ### Linked List\n"
      ],
      "metadata": {
        "id": "K5qduaQgMf53"
      }
    },
    {
      "cell_type": "code",
      "source": [
        "def hasCycle(head) -> bool:\n",
        "  fast, slow = head, head\n",
        "  while fast and fast.next:\n",
        "    fast = fast.next.next\n",
        "    slow = slow.next\n",
        "    if fast==slow: return True\n",
        "  return False"
      ],
      "metadata": {
        "id": "TUwBmalHmPdJ"
      },
      "execution_count": null,
      "outputs": []
    },
    {
      "cell_type": "markdown",
      "source": [
        "## [**Implement Queue using Stacks**](https://leetcode.com/problems/implement-queue-using-stacks)\n",
        "> ### Stack"
      ],
      "metadata": {
        "id": "0xD4QCOBMhqG"
      }
    },
    {
      "cell_type": "code",
      "source": [
        "## brute force, bad time/space\n",
        "class MyQueue:\n",
        "\n",
        "    def __init__(self):\n",
        "      self.stack = deque()\n",
        "\n",
        "    def push(self, x: int) -> None:\n",
        "      self.stack.append(x)\n",
        "\n",
        "    def pop(self) -> int:\n",
        "      if not self.empty():\n",
        "        return self.stack.popleft()\n",
        "\n",
        "    def peek(self) -> int:\n",
        "      if not self.empty():\n",
        "        return self.stack[0]\n",
        "\n",
        "    def empty(self) -> bool:\n",
        "      return not self.stack"
      ],
      "metadata": {
        "id": "bylBB_b-kJBY"
      },
      "execution_count": null,
      "outputs": []
    },
    {
      "cell_type": "code",
      "source": [
        "class MyQueue:\n",
        "\n",
        "    def __init__(self):\n",
        "        self.instack = []\n",
        "        self.outstack = []\n",
        "\n",
        "    def push(self, x: int) -> None:\n",
        "        self.instack.append(x)\n",
        "\n",
        "    def pop(self) -> int:\n",
        "        self.peek()\n",
        "        first = self.outstack.pop()\n",
        "        return first\n",
        "\n",
        "    def peek(self) -> int:\n",
        "        if not self.outstack:\n",
        "            while self.instack:\n",
        "                self.outstack.append(self.instack.pop())\n",
        "        first = self.outstack.pop()\n",
        "        self.outstack.append(first)\n",
        "        return first\n",
        "\n",
        "    def empty(self) -> bool:\n",
        "        return not self.instack and not self.outstack"
      ],
      "metadata": {
        "id": "_FFasGQj5Qfi"
      },
      "execution_count": null,
      "outputs": []
    },
    {
      "cell_type": "code",
      "source": [
        "x = 1\n",
        "\n",
        "obj = MyQueue()\n",
        "obj.push(x)\n",
        "param_2 = obj.pop()\n",
        "param_3 = obj.peek()\n",
        "param_4 = obj.empty()"
      ],
      "metadata": {
        "id": "1mpvFFRqjO5D"
      },
      "execution_count": null,
      "outputs": []
    },
    {
      "cell_type": "code",
      "source": [
        "o = MyQueue()\n",
        "o.push(1)\n",
        "o.push(2)"
      ],
      "metadata": {
        "id": "Fest-YbZo03q"
      },
      "execution_count": null,
      "outputs": []
    },
    {
      "cell_type": "code",
      "source": [],
      "metadata": {
        "id": "-7LFGtKtpGcY"
      },
      "execution_count": null,
      "outputs": []
    },
    {
      "cell_type": "markdown",
      "source": [
        "# **Week 2**"
      ],
      "metadata": {
        "id": "WHMDDIvF06VW"
      }
    },
    {
      "cell_type": "markdown",
      "source": [
        "## [**First Bad Version**](https://leetcode.com/problems/first-bad-version)\n",
        "> ### Binary Search"
      ],
      "metadata": {
        "id": "DqToMZTq1Xq-"
      }
    },
    {
      "cell_type": "code",
      "source": [
        "def firstBadVersion(self, n: int) -> int:\n",
        "      low, high = 1, n\n",
        "\n",
        "      while low < high:\n",
        "          mid = low + (high - low) // 2\n",
        "\n",
        "          if isBadVersion(mid):\n",
        "              high = mid\n",
        "          else:\n",
        "              low = mid + 1\n",
        "\n",
        "      return low"
      ],
      "metadata": {
        "id": "wF7pFZj_1i_O"
      },
      "execution_count": null,
      "outputs": []
    },
    {
      "cell_type": "code",
      "source": [],
      "metadata": {
        "id": "XQCFyNkJL8Xs"
      },
      "execution_count": null,
      "outputs": []
    },
    {
      "cell_type": "markdown",
      "source": [
        "## [**Ransom Note**](https://leetcode.com/problems/ransom-note/)\n",
        "\n",
        "> ### Hash Table"
      ],
      "metadata": {
        "id": "1_JYxF9DMA0U"
      }
    },
    {
      "cell_type": "code",
      "source": [
        "def canConstruct(ransomNote, magazine) -> bool:\n",
        "  if len(ransomNote) > len(magazine):\n",
        "    return False\n",
        "\n",
        "  for c in set(ransomNote):\n",
        "    if magazine.count(c) < ransomNote.count(c):\n",
        "      return False\n",
        "\n",
        "  return True"
      ],
      "metadata": {
        "id": "nL7Qzy_SMLTU"
      },
      "execution_count": null,
      "outputs": []
    },
    {
      "cell_type": "code",
      "source": [
        "print(\n",
        "    canConstruct(\"a\", \"b\"),\n",
        "    canConstruct(\"aa\", \"ab\"),\n",
        "    canConstruct(\"aa\", \"aab\")\n",
        ")"
      ],
      "metadata": {
        "colab": {
          "base_uri": "https://localhost:8080/"
        },
        "id": "9hNMo1jhOgPb",
        "outputId": "37bbd7d9-73d8-48ab-fe08-a4159e79f00d"
      },
      "execution_count": null,
      "outputs": [
        {
          "output_type": "stream",
          "name": "stdout",
          "text": [
            "False False True\n"
          ]
        }
      ]
    },
    {
      "cell_type": "markdown",
      "source": [
        "## [**Climbing Stairs**](https://leetcode.com/problems/climbing-stairs/)\n",
        "> ### Dynamic Programming"
      ],
      "metadata": {
        "id": "PojmVgXqb8hj"
      }
    },
    {
      "cell_type": "code",
      "source": [
        "def climbStairs(n):\n",
        "  if n <= 3:\n",
        "      return n\n",
        "\n",
        "  n1, n2 = 2, 3\n",
        "  for i in range(4, n+1):\n",
        "      temp = n1 + n2\n",
        "      n1 = n2\n",
        "      n2 = temp\n",
        "\n",
        "  return n2"
      ],
      "metadata": {
        "id": "YXlPTPIycGz6"
      },
      "execution_count": null,
      "outputs": []
    },
    {
      "cell_type": "code",
      "source": [
        "climbStairs(20)"
      ],
      "metadata": {
        "colab": {
          "base_uri": "https://localhost:8080/"
        },
        "id": "9DvRJtHwcI_P",
        "outputId": "0daf16e4-3f37-4ef8-ee23-2a9112c0e335"
      },
      "execution_count": null,
      "outputs": [
        {
          "output_type": "execute_result",
          "data": {
            "text/plain": [
              "10946"
            ]
          },
          "metadata": {},
          "execution_count": 6
        }
      ]
    },
    {
      "cell_type": "markdown",
      "source": [
        "## [**Longest Palindrome**](https://leetcode.com/problems/longest-palindrome/)\n",
        "> ### String"
      ],
      "metadata": {
        "id": "ZdPNwqV5cJoc"
      }
    },
    {
      "cell_type": "code",
      "source": [
        "def longestPalindrome(s: str) -> int:\n",
        "  chars = set()\n",
        "  length = 0\n",
        "  for c in s:\n",
        "      if c not in chars:\n",
        "          chars.add(c)\n",
        "      else:\n",
        "          chars.remove(c)\n",
        "          length += 2\n",
        "\n",
        "  if chars:\n",
        "      length += 1\n",
        "\n",
        "  return length"
      ],
      "metadata": {
        "id": "N_H_PQr3lV5w"
      },
      "execution_count": null,
      "outputs": []
    },
    {
      "cell_type": "code",
      "source": [
        "longestPalindrome(\"aaaab\")"
      ],
      "metadata": {
        "colab": {
          "base_uri": "https://localhost:8080/"
        },
        "id": "Cztax9haGWn1",
        "outputId": "bb49a818-1e79-44e3-fecb-a6d6d42fc408"
      },
      "execution_count": null,
      "outputs": [
        {
          "output_type": "execute_result",
          "data": {
            "text/plain": [
              "5"
            ]
          },
          "metadata": {},
          "execution_count": 2
        }
      ]
    },
    {
      "cell_type": "markdown",
      "source": [
        "## [**Reverse Linked List**](https://leetcode.com/problems/reverse-linked-list/)\n",
        "> ### Linked List"
      ],
      "metadata": {
        "id": "1yT4wF54Gclc"
      }
    },
    {
      "cell_type": "code",
      "source": [
        "def reverseList(head: Optional[ListNode]) -> Optional[ListNode]:\n",
        "  node = None\n",
        "\n",
        "  while head:\n",
        "      temp = head.next\n",
        "      head.next = node\n",
        "      node = head\n",
        "      head = temp\n",
        "\n",
        "  return node"
      ],
      "metadata": {
        "id": "vrLNto5TGpGc"
      },
      "execution_count": null,
      "outputs": []
    },
    {
      "cell_type": "markdown",
      "source": [
        "## [**Majority Element**](https://leetcode.com/problems/majority-element)\n",
        "\n",
        "> ### Array"
      ],
      "metadata": {
        "id": "WBzpxkb_xMOK"
      }
    },
    {
      "cell_type": "markdown",
      "source": [
        "Allegedly, the `Boyer-Moore Voting Algorithm` is an optimal solution for this problem, but the code is more complex."
      ],
      "metadata": {
        "id": "UuVShGyjgqaL"
      }
    },
    {
      "cell_type": "code",
      "source": [
        "def majorityElement(nums: List[int]) -> int:\n",
        "  count = {}\n",
        "  n = len(nums)\n",
        "\n",
        "  if n == 1: return nums[0]\n",
        "\n",
        "  for i in range(n):\n",
        "      if nums[i] not in count:\n",
        "          count[nums[i]] = 1\n",
        "      else:\n",
        "          count[nums[i]] += 1\n",
        "\n",
        "          if count[nums[i]] > (n/2):\n",
        "              return nums[i]"
      ],
      "metadata": {
        "id": "bvxzr4BVxFq6"
      },
      "execution_count": null,
      "outputs": []
    },
    {
      "cell_type": "code",
      "source": [],
      "metadata": {
        "id": "TD01wTv71irP"
      },
      "execution_count": null,
      "outputs": []
    },
    {
      "cell_type": "markdown",
      "source": [
        "## [**Add Binary**](https://leetcode.com/problems/add-binary/)\n",
        "> ### Binary\n"
      ],
      "metadata": {
        "id": "E-cWKypgfPD6"
      }
    },
    {
      "cell_type": "markdown",
      "source": [
        "1. The first operation is converting both binary strings `a` and `b` to integers.\n",
        "  - Do so by using the `int()` function on each `a` and `b` added to the binary string indicator (in python), `'0b'`.\n",
        "  - So, `int('0b' + '1010', 2)` -> `int('0b1010', 2)`.\n",
        "  - Adding `'0b'` tells the interpreter that the string should be read as binary\n",
        "  - The second argument, `2` says convert to an integer from a string in base `2`.\n",
        "2. Then, add the two now integers together.\n",
        "3. Next, convert back to binary with `bin()`.\n",
        "4. Finally, return only the binary part of the string, without the `'0b'` prefix."
      ],
      "metadata": {
        "id": "wIDp92p7hArt"
      }
    },
    {
      "cell_type": "code",
      "source": [
        "def addBinary(a: str, b: str) -> str:\n",
        "  return bin(int('0b'+a,2) + int('0b'+b,2))[2:]"
      ],
      "metadata": {
        "id": "gf-L_iEZfagN"
      },
      "execution_count": null,
      "outputs": []
    },
    {
      "cell_type": "code",
      "source": [
        "a,b = \"1010\", \"1011\"\n",
        "addBinary(a,b)"
      ],
      "metadata": {
        "colab": {
          "base_uri": "https://localhost:8080/",
          "height": 36
        },
        "id": "NKqE3BYYhXGq",
        "outputId": "e65e45aa-8364-417b-efc2-921dcecb38c7"
      },
      "execution_count": null,
      "outputs": [
        {
          "output_type": "execute_result",
          "data": {
            "text/plain": [
              "'10101'"
            ],
            "application/vnd.google.colaboratory.intrinsic+json": {
              "type": "string"
            }
          },
          "metadata": {},
          "execution_count": 9
        }
      ]
    },
    {
      "cell_type": "markdown",
      "source": [
        "## [**Diameter of Binary Tree**](https://leetcode.com/problems/diameter-of-binary-tree/)\n",
        "> ### Binary Tree"
      ],
      "metadata": {
        "id": "KBdpcEZ3nepG"
      }
    },
    {
      "cell_type": "code",
      "source": [
        "def diameterOfBinaryTree(root: Optional[TreeNode]) -> int:\n",
        "  def diameter(node, res):\n",
        "      if not node:\n",
        "          return 0\n",
        "\n",
        "      left = diameter(node.left, res)\n",
        "      right = diameter(node.right, res)\n",
        "\n",
        "      res[0] = max(res[0], left+right)\n",
        "\n",
        "      return max(left, right) + 1\n",
        "\n",
        "  res = [0]\n",
        "  diameter(root, res)\n",
        "  return res[0]"
      ],
      "metadata": {
        "id": "x9wwnDz3nx59"
      },
      "execution_count": null,
      "outputs": []
    },
    {
      "cell_type": "code",
      "source": [],
      "metadata": {
        "id": "krvBbQZ1XwTy"
      },
      "execution_count": null,
      "outputs": []
    },
    {
      "cell_type": "markdown",
      "source": [
        "## [**Middle of a Linked List**](https://leetcode.com/problems/middle-of-the-linked-list/)\n",
        "\n",
        "> ### Linked List"
      ],
      "metadata": {
        "id": "L3vn9SztYK89"
      }
    },
    {
      "cell_type": "code",
      "source": [
        "def middleNode(self, head: Optional[ListNode]) -> Optional[ListNode]:\n",
        "  slow_pointer = head\n",
        "  fast_pointer = head\n",
        "\n",
        "  while fast_pointer is not None and fast_pointer.next is not None:\n",
        "      slow_pointer = slow_pointer.next\n",
        "      fast_pointer = fast_pointer.next.next\n",
        "\n",
        "  return slow_pointer"
      ],
      "metadata": {
        "id": "wC7ZlxhLYRKI"
      },
      "execution_count": null,
      "outputs": []
    },
    {
      "cell_type": "markdown",
      "source": [
        "## [**Maximum Depth of a Binary Tree**](https://leetcode.com/problems/maximum-depth-of-binary-tree/)\n",
        "\n",
        "> ### Binary Tree"
      ],
      "metadata": {
        "id": "0IbWMuU6dfmI"
      }
    },
    {
      "cell_type": "code",
      "source": [
        "class Solution:\n",
        "    def maxDepth(self, root: Optional[TreeNode]) -> int:\n",
        "        if not root:\n",
        "            return 0\n",
        "\n",
        "        l = self.maxDepth(root.left)\n",
        "        r = self.maxDepth(root.right)\n",
        "\n",
        "        return max(l,r)+1"
      ],
      "metadata": {
        "id": "PDII4PJ0dxCA"
      },
      "execution_count": null,
      "outputs": []
    },
    {
      "cell_type": "markdown",
      "source": [
        "## [**Contains Duplicate**](https://leetcode.com/problems/contains-duplicate/description/)\n",
        "\n",
        "> ### Array"
      ],
      "metadata": {
        "id": "ZU1wUnhgdxiN"
      }
    },
    {
      "cell_type": "code",
      "source": [
        "def containsDuplicate(nums: List[int]) -> bool:\n",
        "  dupes = set()\n",
        "  for n in nums:\n",
        "      if n not in dupes:\n",
        "          dupes.add(n)\n",
        "      else:\n",
        "          return True\n",
        "\n",
        "  return False"
      ],
      "metadata": {
        "id": "ImPSvv5udy7c"
      },
      "execution_count": null,
      "outputs": []
    },
    {
      "cell_type": "code",
      "source": [
        "containsDuplicate([1,2,3,1])"
      ],
      "metadata": {
        "colab": {
          "base_uri": "https://localhost:8080/"
        },
        "id": "Qx00pmsvh5MD",
        "outputId": "b12c8ba3-d127-426f-ac03-35fbfcdb69d4"
      },
      "execution_count": null,
      "outputs": [
        {
          "output_type": "execute_result",
          "data": {
            "text/plain": [
              "True"
            ]
          },
          "metadata": {},
          "execution_count": 6
        }
      ]
    },
    {
      "cell_type": "markdown",
      "source": [
        "## [**Maximum Subarray**](https://leetcode.com/problems/maximum-subarray/description/)\n",
        "\n",
        "> ### DP"
      ],
      "metadata": {
        "id": "G2fQ0H_2dzRF"
      }
    },
    {
      "cell_type": "code",
      "source": [
        "def maxSubArray(nums: List[int]) -> int:\n",
        "  res = nums[0]\n",
        "  total = 0\n",
        "\n",
        "  for n in nums:\n",
        "      if total < 0:\n",
        "          total = 0\n",
        "\n",
        "      total += n\n",
        "      res = max(res, total)\n",
        "\n",
        "  return res"
      ],
      "metadata": {
        "id": "aUMIMIxhd3f8"
      },
      "execution_count": null,
      "outputs": []
    },
    {
      "cell_type": "code",
      "source": [
        "maxSubArray([-2,1,-3,4,-1,2,1,-5,4])"
      ],
      "metadata": {
        "colab": {
          "base_uri": "https://localhost:8080/"
        },
        "id": "ucgP3aENkzac",
        "outputId": "e28bd4d5-f272-4579-c30d-45ea0ae7faab"
      },
      "execution_count": null,
      "outputs": [
        {
          "output_type": "execute_result",
          "data": {
            "text/plain": [
              "6"
            ]
          },
          "metadata": {},
          "execution_count": 12
        }
      ]
    },
    {
      "cell_type": "markdown",
      "source": [
        "#**Week 3**"
      ],
      "metadata": {
        "id": "5StG--IglBnp"
      }
    },
    {
      "cell_type": "markdown",
      "source": [
        "# [**Insert Interval**](https://leetcode.com/problems/insert-interval/)\n",
        "\n",
        "> ### Array"
      ],
      "metadata": {
        "id": "OP7J_I5mqSxX"
      }
    },
    {
      "cell_type": "code",
      "source": [
        "def insert(intervals: List[List[int]], newInterval: List[int]) -> List[List[int]]:\n",
        "  merged = []\n",
        "  i = 0\n",
        "\n",
        "  while i < len(intervals) and intervals[i][1] < newInterval[0]:\n",
        "      merged.append(intervals[i])\n",
        "      i += 1\n",
        "\n",
        "  while i < len(intervals) and intervals[i][0] <= newInterval[1]:\n",
        "      newInterval = [min(newInterval[0], intervals[i][0]), max(newInterval[1], intervals[i][1])]\n",
        "      i += 1\n",
        "  merged.append(newInterval)\n",
        "\n",
        "  while i < len(intervals):\n",
        "      merged.append(intervals[i])\n",
        "      i += 1\n",
        "\n",
        "  return merged"
      ],
      "metadata": {
        "id": "U2Xsl8aEqTF1"
      },
      "execution_count": null,
      "outputs": []
    },
    {
      "cell_type": "markdown",
      "source": [
        "# [**01 Matrix**](https://leetcode.com/problems/01-matrix/description/)\n",
        "\n",
        "> ### Graph"
      ],
      "metadata": {
        "id": "gJd-x9uJ-eLg"
      }
    },
    {
      "cell_type": "code",
      "source": [
        "def updateMatrix(mat: List[List[int]]) -> List[List[int]]:\n",
        "  R, C = len(mat), len(mat[0])\n",
        "  res = [[float('inf')] * C for _ in range(R)]\n",
        "  queue = deque()\n",
        "\n",
        "  for r in range(R):\n",
        "      for c in range(C):\n",
        "          if mat[r][c] == 0:\n",
        "              res[r][c] = 0\n",
        "              queue.append((r, c))\n",
        "\n",
        "  directions = [(1, 0), (-1, 0), (0, 1), (0, -1)]\n",
        "  while queue:\n",
        "      r, c = queue.popleft()\n",
        "      for dr, dc in directions:\n",
        "          nr, nc = r + dr, c + dc\n",
        "          if 0 <= nr < R and 0 <= nc < C and res[nr][nc] > res[r][c] + 1:\n",
        "              res[nr][nc] = res[r][c] + 1\n",
        "              queue.append((nr, nc))\n",
        "\n",
        "  return res"
      ],
      "metadata": {
        "id": "3QhAvZSu-deX"
      },
      "execution_count": null,
      "outputs": []
    }
  ]
}